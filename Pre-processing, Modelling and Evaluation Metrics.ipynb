{
 "cells": [
  {
   "cell_type": "code",
   "execution_count": 1,
   "metadata": {},
   "outputs": [],
   "source": [
    "import pandas as pd\n",
    "import numpy as np\n",
    "import matplotlib.pyplot as plt\n",
    "import seaborn as sns\n",
    "import warnings\n",
    "import pickle\n",
    "warnings.filterwarnings(\"ignore\")"
   ]
  },
  {
   "cell_type": "code",
   "execution_count": 2,
   "metadata": {},
   "outputs": [],
   "source": [
    "basedir = '\n",
    "datadir = basedir+'Data\\\\'\n",
    "modeldir = basedir+'Models\\\\'\n",
    "chartdir = basedir+'Charts\\\\'"
   ]
  },
  {
   "cell_type": "code",
   "execution_count": 3,
   "metadata": {},
   "outputs": [],
   "source": [
    "data = pd.read_csv(datadir+'Dataset.csv')"
   ]
  },
  {
   "cell_type": "markdown",
   "metadata": {},
   "source": [
    "# Preprocessing - Cleaning"
   ]
  },
  {
   "cell_type": "code",
   "execution_count": 4,
   "metadata": {
    "scrolled": false
   },
   "outputs": [
    {
     "data": {
      "text/plain": [
       "likes            0\n",
       "Checkins         0\n",
       "Returns         51\n",
       "Category        57\n",
       "commBase        60\n",
       "comm24           0\n",
       "comm48          48\n",
       "comm24_1         0\n",
       "diff_24,48       0\n",
       "baseTime         0\n",
       "length           0\n",
       "shares        2449\n",
       "hrs              0\n",
       "sun_pub          0\n",
       "mon_pub       1927\n",
       "tue_pub          0\n",
       "wed_pub          0\n",
       "thu_pub       3045\n",
       "fri_pub          0\n",
       "sat_pub          0\n",
       "sun_base         0\n",
       "mon_base      1970\n",
       "tue_base         0\n",
       "wed_base         0\n",
       "thu_base         0\n",
       "fri_base         0\n",
       "sat_base         0\n",
       "output           0\n",
       "dtype: int64"
      ]
     },
     "execution_count": 4,
     "metadata": {},
     "output_type": "execute_result"
    }
   ],
   "source": [
    "data.isnull().sum()"
   ]
  },
  {
   "cell_type": "markdown",
   "metadata": {},
   "source": [
    "### Handling the null values for comm48\n",
    "From the understanding in the description of the data diff_24,48 is difference of comm24 and comm48, CC5 = CC2 - CC3. Hence back tracking it to find the null values of comm48, since comm24 and diff_24,48 has no null values."
   ]
  },
  {
   "cell_type": "code",
   "execution_count": 5,
   "metadata": {},
   "outputs": [],
   "source": [
    "data.loc[:,'comm48'] = data['comm24'] - data['diff_24,48']"
   ]
  },
  {
   "cell_type": "markdown",
   "metadata": {},
   "source": [
    "### Handling the null values in 'Returns', 'Category', 'commBase' and 'shares' Features\n",
    "For each page, Returns and Category values are same for all posts so maxfrequency value (mode) is replaced in place of null.<br>\n",
    "For commBase and shares feature's null values are replaced by maxfrequency values (mode) because of the frequency distribution."
   ]
  },
  {
   "cell_type": "code",
   "execution_count": 6,
   "metadata": {},
   "outputs": [],
   "source": [
    "unq_likes = data.likes.unique().tolist()\n",
    "returndict = {}\n",
    "categorydict = {}\n",
    "commBasedict = {}\n",
    "sharesdict = {}\n",
    "for i in unq_likes:\n",
    "    try:\n",
    "        returndict[i] = int(data.loc[data.likes==i,'Returns'].mode()[0])\n",
    "        categorydict[i] = int(data.loc[data.likes==i,'Category'].mode()[0])\n",
    "        commBasedict[i] = int(data.loc[data.likes==i,'commBase'].mode()[0])\n",
    "        sharesdict[i] = int(data.loc[data.likes==i,'shares'].mode()[0])\n",
    "    except:\n",
    "        returndict[i] = int(0.0)\n",
    "        categorydict[i] = int(0.0)\n",
    "        commBasedict[i] = int(0.0)\n",
    "        sharesdict[i] = int(0.0)"
   ]
  },
  {
   "cell_type": "code",
   "execution_count": 7,
   "metadata": {
    "scrolled": false
   },
   "outputs": [],
   "source": [
    "for i in unq_likes:\n",
    "    data.loc[data.likes==i,'Returns'] = returndict[i]\n",
    "    data.loc[data.likes==i,'Category'] = categorydict[i]\n",
    "    data.loc[data.likes==i,'commBase'] = data.loc[data.likes==i,'commBase'].replace(to_replace = np.nan, value = commBasedict[i])\n",
    "    data.loc[data.likes==i,'shares'] = data.loc[data.likes==i,'shares'].replace(to_replace = np.nan, value = sharesdict[i])"
   ]
  },
  {
   "cell_type": "markdown",
   "metadata": {},
   "source": [
    "### Handling null values for basetime weekday features\n",
    " Features are 'sun_base', 'mon_base', 'tue_base', 'wed_base', 'thu_base', 'fri_base', 'sat_base'"
   ]
  },
  {
   "cell_type": "markdown",
   "metadata": {},
   "source": [
    "The data features mentioned above are the one hot encoding of the day of week for which the basetime was taken for prediction. As basetime is given for all posts it is concluded that it should lie on any one of the day. But there is a data collection error that all dummy variables are zero. The problem is handled my making perfect one hot encoding mean while the null values are also handled.<br>\n",
    "<br>\n",
    "Logic - if features 'sun_base', 'tue_base', 'wed_base', 'thu_base', 'fri_base', 'sat_base' is 0 then 'mon_base' is 1<br>\n",
    "        if any one features 'sun_base', 'tue_base', 'wed_base', 'thu_base', 'fri_base', 'sat_base' is 1 then 'mon_base' is 0<br>\n",
    "This above logic will remove the error and null values."
   ]
  },
  {
   "cell_type": "code",
   "execution_count": 8,
   "metadata": {},
   "outputs": [],
   "source": [
    "data.loc[(data.sun_base==0)&(data.tue_base==0)&(data.wed_base==0)&(data.thu_base==0)&(data.fri_base==0)&(data.sat_base==0) ,'mon_base'] = 1\n",
    "data.loc[(data.sun_base==1)|(data.tue_base==1)|(data.wed_base==1)|(data.thu_base==1)|(data.fri_base==1)|(data.sat_base==1) ,'mon_base'] = 0"
   ]
  },
  {
   "cell_type": "markdown",
   "metadata": {},
   "source": [
    "### Handling null values for publishingtime weekday features\n",
    " Features are 'sun_pub', 'mon_pub', 'tue_pub', 'wed_pub', 'thu_pub', 'fri_pub', 'sat_pub'"
   ]
  },
  {
   "cell_type": "markdown",
   "metadata": {},
   "source": [
    "The data features mentioned above are the one hot encoding of the day of week for which the post was published. Having that the post is published on any one of the day, the problem is handled my making perfect one hot encoding mean while the part of null values are also handled.<br>\n",
    "<br>\n",
    "While handling these null values, both mon_pub and thu_pub sometimes occur null, If any one of the other days except mon_pub and thu_pub is not null the we can replace these two by 0 other than that is dropped and does not greatly affect the whole dataset.\n",
    "<br>\n",
    "Logic:<br>\n",
    "If features 'sun_pub', 'tue_pub', 'wed_pub', 'thu_pub', 'fri_pub', 'sat_pub' is 0 then 'mon_pub' is 1<br>\n",
    "If any one features 'sun_pub', 'tue_pub', 'wed_pub', 'thu_pub', 'fri_pub', 'sat_pub' is 1 then 'mon_pub' is 0<br>\n",
    "If features 'sun_pub', 'mon_pub', 'tue_pub', 'wed_pub', 'fri_pub', 'sat_pub' is 0 then 'thu_pub' is 1<br>\n",
    "If any one features 'sun_pub', 'mon_pub', 'tue_pub', 'wed_pub', 'fri_pub', 'sat_pub' is 1 then 'thu_pub' is 0<br>\n",
    "This above logic will remove the error and null values."
   ]
  },
  {
   "cell_type": "code",
   "execution_count": 9,
   "metadata": {},
   "outputs": [],
   "source": [
    "data.loc[(data.sun_pub==1)|(data.tue_pub==1)|(data.wed_pub==1)|(data.fri_pub==1)|(data.sat_pub==1) ,'mon_pub'] = 0\n",
    "data.loc[(data.sun_pub==1)|(data.tue_pub==1)|(data.wed_pub==1)|(data.fri_pub==1)|(data.sat_pub==1) ,'thu_pub'] = 0"
   ]
  },
  {
   "cell_type": "code",
   "execution_count": 10,
   "metadata": {},
   "outputs": [],
   "source": [
    "data = data.drop(index=data.loc[(data.mon_pub.isnull()) & (data.thu_pub.isnull())].index.values)"
   ]
  },
  {
   "cell_type": "code",
   "execution_count": 11,
   "metadata": {},
   "outputs": [],
   "source": [
    "data.loc[(data.sun_pub==0)&(data.tue_pub==0)&(data.wed_pub==0)&(data.thu_pub==0)&(data.fri_pub==0)&(data.sat_pub==0) ,'mon_pub'] = 1\n",
    "data.loc[(data.sun_pub==0)&(data.mon_pub==0)&(data.tue_pub==0)&(data.wed_pub==0)&(data.fri_pub==0)&(data.sat_pub==0) ,'thu_pub'] = 1"
   ]
  },
  {
   "cell_type": "code",
   "execution_count": 12,
   "metadata": {},
   "outputs": [],
   "source": [
    "data.loc[(data.sun_pub==1)|(data.tue_pub==1)|(data.wed_pub==1)|(data.thu_pub==1)|(data.fri_pub==1)|(data.sat_pub==1) ,'mon_pub'] = 0\n",
    "data.loc[(data.sun_pub==1)|(data.mon_pub==1)|(data.tue_pub==1)|(data.wed_pub==1)|(data.fri_pub==1)|(data.sat_pub==1) ,'thu_pub'] = 0"
   ]
  },
  {
   "cell_type": "code",
   "execution_count": 13,
   "metadata": {
    "scrolled": false
   },
   "outputs": [
    {
     "data": {
      "text/plain": [
       "likes         0\n",
       "Checkins      0\n",
       "Returns       0\n",
       "Category      0\n",
       "commBase      0\n",
       "comm24        0\n",
       "comm48        0\n",
       "comm24_1      0\n",
       "diff_24,48    0\n",
       "baseTime      0\n",
       "length        0\n",
       "shares        0\n",
       "hrs           0\n",
       "sun_pub       0\n",
       "mon_pub       0\n",
       "tue_pub       0\n",
       "wed_pub       0\n",
       "thu_pub       0\n",
       "fri_pub       0\n",
       "sat_pub       0\n",
       "sun_base      0\n",
       "mon_base      0\n",
       "tue_base      0\n",
       "wed_base      0\n",
       "thu_base      0\n",
       "fri_base      0\n",
       "sat_base      0\n",
       "output        0\n",
       "dtype: int64"
      ]
     },
     "execution_count": 13,
     "metadata": {},
     "output_type": "execute_result"
    }
   ],
   "source": [
    "data.isnull().sum()"
   ]
  },
  {
   "cell_type": "markdown",
   "metadata": {},
   "source": [
    "__Resetting index and converting datatype to int64__"
   ]
  },
  {
   "cell_type": "code",
   "execution_count": 14,
   "metadata": {},
   "outputs": [],
   "source": [
    "data = data.astype(np.int64)\n",
    "data = data.reset_index(drop=True)"
   ]
  },
  {
   "cell_type": "markdown",
   "metadata": {},
   "source": [
    "__Exporting the Clean Null Handled data__"
   ]
  },
  {
   "cell_type": "code",
   "execution_count": 15,
   "metadata": {},
   "outputs": [],
   "source": [
    "data.to_csv(datadir+'cleanedDATA.csv')"
   ]
  },
  {
   "cell_type": "markdown",
   "metadata": {},
   "source": [
    "### Droping the Extra Dummy Variables\n",
    "\n",
    "For each level of N categorical variable in a features takes N-1 dummy variables. \n",
    "\n",
    "In the Publishingtime weekday features, sun_pub is dropped.<br>\n",
    "It is taken that mon_pub, tue_pub, wed_pub, thu_pub, fri_pub, sat_pub is 0 then sun_pub is 1.<br>\n",
    "<br>\n",
    "In the basetime weekday features, sun_base is dropped.<br>\n",
    "It is taken that mon_base, tue_base, wed_base, thu_base, fri_base, sat_base is 0 then sun_base is 1.<br>\n",
    "<br>"
   ]
  },
  {
   "cell_type": "code",
   "execution_count": 16,
   "metadata": {},
   "outputs": [],
   "source": [
    "data = data.drop(columns=['sun_pub','sun_base'])"
   ]
  },
  {
   "cell_type": "code",
   "execution_count": 17,
   "metadata": {},
   "outputs": [],
   "source": [
    "columns = data.columns.tolist()"
   ]
  },
  {
   "cell_type": "code",
   "execution_count": 18,
   "metadata": {},
   "outputs": [
    {
     "name": "stdout",
     "output_type": "stream",
     "text": [
      "Records: 40526\n",
      "Features: 26\n"
     ]
    }
   ],
   "source": [
    "dim = data.shape\n",
    "print('Records:',dim[0])\n",
    "print('Features:',dim[1])"
   ]
  },
  {
   "cell_type": "markdown",
   "metadata": {},
   "source": [
    "# Feature Selection"
   ]
  },
  {
   "cell_type": "markdown",
   "metadata": {},
   "source": [
    "### Correlation"
   ]
  },
  {
   "cell_type": "code",
   "execution_count": 19,
   "metadata": {},
   "outputs": [],
   "source": [
    "corr = data.corr()"
   ]
  },
  {
   "cell_type": "markdown",
   "metadata": {},
   "source": [
    "__Features with good Positive Relationship with Output__<br>"
   ]
  },
  {
   "cell_type": "code",
   "execution_count": 20,
   "metadata": {},
   "outputs": [
    {
     "data": {
      "text/html": [
       "<div>\n",
       "<style scoped>\n",
       "    .dataframe tbody tr th:only-of-type {\n",
       "        vertical-align: middle;\n",
       "    }\n",
       "\n",
       "    .dataframe tbody tr th {\n",
       "        vertical-align: top;\n",
       "    }\n",
       "\n",
       "    .dataframe thead th {\n",
       "        text-align: right;\n",
       "    }\n",
       "</style>\n",
       "<table border=\"1\" class=\"dataframe\">\n",
       "  <thead>\n",
       "    <tr style=\"text-align: right;\">\n",
       "      <th></th>\n",
       "      <th>output</th>\n",
       "    </tr>\n",
       "  </thead>\n",
       "  <tbody>\n",
       "    <tr>\n",
       "      <td>comm24</td>\n",
       "      <td>0.521875</td>\n",
       "    </tr>\n",
       "    <tr>\n",
       "      <td>diff_24,48</td>\n",
       "      <td>0.372233</td>\n",
       "    </tr>\n",
       "    <tr>\n",
       "      <td>comm24_1</td>\n",
       "      <td>0.336864</td>\n",
       "    </tr>\n",
       "    <tr>\n",
       "      <td>commBase</td>\n",
       "      <td>0.322349</td>\n",
       "    </tr>\n",
       "    <tr>\n",
       "      <td>Returns</td>\n",
       "      <td>0.174994</td>\n",
       "    </tr>\n",
       "    <tr>\n",
       "      <td>shares</td>\n",
       "      <td>0.139432</td>\n",
       "    </tr>\n",
       "  </tbody>\n",
       "</table>\n",
       "</div>"
      ],
      "text/plain": [
       "              output\n",
       "comm24      0.521875\n",
       "diff_24,48  0.372233\n",
       "comm24_1    0.336864\n",
       "commBase    0.322349\n",
       "Returns     0.174994\n",
       "shares      0.139432"
      ]
     },
     "execution_count": 20,
     "metadata": {},
     "output_type": "execute_result"
    }
   ],
   "source": [
    "pcorrf = pd.DataFrame(corr.output[(data.corr().output>0.1) & (data.corr().output<1)].sort_values(ascending=False))\n",
    "pcorrf"
   ]
  },
  {
   "cell_type": "markdown",
   "metadata": {},
   "source": [
    "__Features with good Negative Relationship with Output__"
   ]
  },
  {
   "cell_type": "code",
   "execution_count": 21,
   "metadata": {},
   "outputs": [
    {
     "data": {
      "text/html": [
       "<div>\n",
       "<style scoped>\n",
       "    .dataframe tbody tr th:only-of-type {\n",
       "        vertical-align: middle;\n",
       "    }\n",
       "\n",
       "    .dataframe tbody tr th {\n",
       "        vertical-align: top;\n",
       "    }\n",
       "\n",
       "    .dataframe thead th {\n",
       "        text-align: right;\n",
       "    }\n",
       "</style>\n",
       "<table border=\"1\" class=\"dataframe\">\n",
       "  <thead>\n",
       "    <tr style=\"text-align: right;\">\n",
       "      <th></th>\n",
       "      <th>output</th>\n",
       "    </tr>\n",
       "  </thead>\n",
       "  <tbody>\n",
       "    <tr>\n",
       "      <td>baseTime</td>\n",
       "      <td>-0.221868</td>\n",
       "    </tr>\n",
       "  </tbody>\n",
       "</table>\n",
       "</div>"
      ],
      "text/plain": [
       "            output\n",
       "baseTime -0.221868"
      ]
     },
     "execution_count": 21,
     "metadata": {},
     "output_type": "execute_result"
    }
   ],
   "source": [
    "ncorrf = pd.DataFrame(corr.output[(data.corr().output>-1) & (data.corr().output<-0.1)].sort_values(ascending=False))\n",
    "ncorrf"
   ]
  },
  {
   "cell_type": "markdown",
   "metadata": {},
   "source": [
    "__Multicolinearity of features__"
   ]
  },
  {
   "cell_type": "code",
   "execution_count": 22,
   "metadata": {
    "scrolled": true
   },
   "outputs": [
    {
     "data": {
      "text/html": [
       "<div>\n",
       "<style scoped>\n",
       "    .dataframe tbody tr th:only-of-type {\n",
       "        vertical-align: middle;\n",
       "    }\n",
       "\n",
       "    .dataframe tbody tr th {\n",
       "        vertical-align: top;\n",
       "    }\n",
       "\n",
       "    .dataframe thead th {\n",
       "        text-align: right;\n",
       "    }\n",
       "</style>\n",
       "<table border=\"1\" class=\"dataframe\">\n",
       "  <thead>\n",
       "    <tr style=\"text-align: right;\">\n",
       "      <th></th>\n",
       "      <th>commBase</th>\n",
       "      <th>comm48</th>\n",
       "      <th>comm24_1</th>\n",
       "    </tr>\n",
       "  </thead>\n",
       "  <tbody>\n",
       "    <tr>\n",
       "      <td>commBase</td>\n",
       "      <td>NaN</td>\n",
       "      <td>0.712877</td>\n",
       "      <td>0.996691</td>\n",
       "    </tr>\n",
       "    <tr>\n",
       "      <td>comm48</td>\n",
       "      <td>0.712877</td>\n",
       "      <td>NaN</td>\n",
       "      <td>NaN</td>\n",
       "    </tr>\n",
       "    <tr>\n",
       "      <td>comm24_1</td>\n",
       "      <td>0.996691</td>\n",
       "      <td>NaN</td>\n",
       "      <td>NaN</td>\n",
       "    </tr>\n",
       "  </tbody>\n",
       "</table>\n",
       "</div>"
      ],
      "text/plain": [
       "          commBase    comm48  comm24_1\n",
       "commBase       NaN  0.712877  0.996691\n",
       "comm48    0.712877       NaN       NaN\n",
       "comm24_1  0.996691       NaN       NaN"
      ]
     },
     "execution_count": 22,
     "metadata": {},
     "output_type": "execute_result"
    }
   ],
   "source": [
    "mcorr = corr.iloc[0:-1,0:-1]\n",
    "mcorrf = mcorr[(mcorr>0.7) & (mcorr<1)|(mcorr<-0.7) & (mcorr>-1)].dropna(axis=0,how='all').dropna(axis=1,how='all')\n",
    "mcorrf"
   ]
  },
  {
   "cell_type": "markdown",
   "metadata": {},
   "source": [
    "Selected Features from Correlation plot<br>\n",
    "'comm24','diff_24,48','comm24_1','commBase','Returns','shares','baseTime','output'\n"
   ]
  },
  {
   "cell_type": "markdown",
   "metadata": {},
   "source": [
    "### Variance Threshold Factor"
   ]
  },
  {
   "cell_type": "code",
   "execution_count": 23,
   "metadata": {},
   "outputs": [],
   "source": [
    "X = data.loc[:,data.columns!='output']\n",
    "Y = data.loc[:,data.columns=='output']"
   ]
  },
  {
   "cell_type": "code",
   "execution_count": 24,
   "metadata": {
    "scrolled": false
   },
   "outputs": [
    {
     "data": {
      "text/html": [
       "<div>\n",
       "<style scoped>\n",
       "    .dataframe tbody tr th:only-of-type {\n",
       "        vertical-align: middle;\n",
       "    }\n",
       "\n",
       "    .dataframe tbody tr th {\n",
       "        vertical-align: top;\n",
       "    }\n",
       "\n",
       "    .dataframe thead th {\n",
       "        text-align: right;\n",
       "    }\n",
       "</style>\n",
       "<table border=\"1\" class=\"dataframe\">\n",
       "  <thead>\n",
       "    <tr style=\"text-align: right;\">\n",
       "      <th></th>\n",
       "      <th>VIF Factor</th>\n",
       "      <th>Features</th>\n",
       "    </tr>\n",
       "  </thead>\n",
       "  <tbody>\n",
       "    <tr>\n",
       "      <td>0</td>\n",
       "      <td>1.095577</td>\n",
       "      <td>Checkins</td>\n",
       "    </tr>\n",
       "    <tr>\n",
       "      <td>1</td>\n",
       "      <td>1.190148</td>\n",
       "      <td>length</td>\n",
       "    </tr>\n",
       "    <tr>\n",
       "      <td>2</td>\n",
       "      <td>1.290961</td>\n",
       "      <td>shares</td>\n",
       "    </tr>\n",
       "    <tr>\n",
       "      <td>3</td>\n",
       "      <td>1.759396</td>\n",
       "      <td>likes</td>\n",
       "    </tr>\n",
       "    <tr>\n",
       "      <td>4</td>\n",
       "      <td>2.048137</td>\n",
       "      <td>mon_base</td>\n",
       "    </tr>\n",
       "    <tr>\n",
       "      <td>5</td>\n",
       "      <td>2.188327</td>\n",
       "      <td>sat_base</td>\n",
       "    </tr>\n",
       "    <tr>\n",
       "      <td>6</td>\n",
       "      <td>2.232927</td>\n",
       "      <td>sat_pub</td>\n",
       "    </tr>\n",
       "    <tr>\n",
       "      <td>7</td>\n",
       "      <td>2.261197</td>\n",
       "      <td>mon_pub</td>\n",
       "    </tr>\n",
       "    <tr>\n",
       "      <td>8</td>\n",
       "      <td>2.417232</td>\n",
       "      <td>Returns</td>\n",
       "    </tr>\n",
       "    <tr>\n",
       "      <td>9</td>\n",
       "      <td>2.496034</td>\n",
       "      <td>tue_base</td>\n",
       "    </tr>\n",
       "    <tr>\n",
       "      <td>10</td>\n",
       "      <td>2.535317</td>\n",
       "      <td>fri_base</td>\n",
       "    </tr>\n",
       "    <tr>\n",
       "      <td>11</td>\n",
       "      <td>2.562980</td>\n",
       "      <td>Category</td>\n",
       "    </tr>\n",
       "    <tr>\n",
       "      <td>12</td>\n",
       "      <td>2.708682</td>\n",
       "      <td>fri_pub</td>\n",
       "    </tr>\n",
       "    <tr>\n",
       "      <td>13</td>\n",
       "      <td>2.783190</td>\n",
       "      <td>tue_pub</td>\n",
       "    </tr>\n",
       "    <tr>\n",
       "      <td>14</td>\n",
       "      <td>2.979372</td>\n",
       "      <td>thu_base</td>\n",
       "    </tr>\n",
       "    <tr>\n",
       "      <td>15</td>\n",
       "      <td>2.983101</td>\n",
       "      <td>wed_base</td>\n",
       "    </tr>\n",
       "    <tr>\n",
       "      <td>16</td>\n",
       "      <td>2.998638</td>\n",
       "      <td>thu_pub</td>\n",
       "    </tr>\n",
       "    <tr>\n",
       "      <td>17</td>\n",
       "      <td>3.138179</td>\n",
       "      <td>wed_pub</td>\n",
       "    </tr>\n",
       "    <tr>\n",
       "      <td>18</td>\n",
       "      <td>4.319902</td>\n",
       "      <td>baseTime</td>\n",
       "    </tr>\n",
       "    <tr>\n",
       "      <td>19</td>\n",
       "      <td>20.016981</td>\n",
       "      <td>hrs</td>\n",
       "    </tr>\n",
       "    <tr>\n",
       "      <td>20</td>\n",
       "      <td>238.448234</td>\n",
       "      <td>commBase</td>\n",
       "    </tr>\n",
       "    <tr>\n",
       "      <td>21</td>\n",
       "      <td>261.989006</td>\n",
       "      <td>comm24_1</td>\n",
       "    </tr>\n",
       "    <tr>\n",
       "      <td>22</td>\n",
       "      <td>inf</td>\n",
       "      <td>diff_24,48</td>\n",
       "    </tr>\n",
       "    <tr>\n",
       "      <td>23</td>\n",
       "      <td>inf</td>\n",
       "      <td>comm24</td>\n",
       "    </tr>\n",
       "    <tr>\n",
       "      <td>24</td>\n",
       "      <td>inf</td>\n",
       "      <td>comm48</td>\n",
       "    </tr>\n",
       "  </tbody>\n",
       "</table>\n",
       "</div>"
      ],
      "text/plain": [
       "    VIF Factor    Features\n",
       "0     1.095577    Checkins\n",
       "1     1.190148      length\n",
       "2     1.290961      shares\n",
       "3     1.759396       likes\n",
       "4     2.048137    mon_base\n",
       "5     2.188327    sat_base\n",
       "6     2.232927     sat_pub\n",
       "7     2.261197     mon_pub\n",
       "8     2.417232     Returns\n",
       "9     2.496034    tue_base\n",
       "10    2.535317    fri_base\n",
       "11    2.562980    Category\n",
       "12    2.708682     fri_pub\n",
       "13    2.783190     tue_pub\n",
       "14    2.979372    thu_base\n",
       "15    2.983101    wed_base\n",
       "16    2.998638     thu_pub\n",
       "17    3.138179     wed_pub\n",
       "18    4.319902    baseTime\n",
       "19   20.016981         hrs\n",
       "20  238.448234    commBase\n",
       "21  261.989006    comm24_1\n",
       "22         inf  diff_24,48\n",
       "23         inf      comm24\n",
       "24         inf      comm48"
      ]
     },
     "execution_count": 24,
     "metadata": {},
     "output_type": "execute_result"
    }
   ],
   "source": [
    "from statsmodels.stats.outliers_influence import variance_inflation_factor\n",
    "vif = pd.DataFrame()\n",
    "vif[\"VIF Factor\"] = [variance_inflation_factor(X.values, i) for i in range(X.shape[1])]\n",
    "vif[\"Features\"] = X.columns\n",
    "vif.sort_values('VIF Factor').reset_index(drop=True)"
   ]
  },
  {
   "cell_type": "markdown",
   "metadata": {},
   "source": [
    "We can infer that (commBase and comm24_1) is very highly correlated and (diff_24,48, comm24, comm48) are very highly correlated."
   ]
  },
  {
   "cell_type": "markdown",
   "metadata": {},
   "source": [
    "### Recursive Feature Elimination"
   ]
  },
  {
   "cell_type": "code",
   "execution_count": 25,
   "metadata": {},
   "outputs": [],
   "source": [
    "X = np.array(data.iloc[:,data.columns!='output'])\n",
    "Y = np.array(data.iloc[:,data.columns=='output']).reshape(-1)"
   ]
  },
  {
   "cell_type": "code",
   "execution_count": 26,
   "metadata": {},
   "outputs": [
    {
     "data": {
      "text/plain": [
       "RFE(estimator=LinearRegression(copy_X=True, fit_intercept=True, n_jobs=None,\n",
       "                               normalize=False),\n",
       "    n_features_to_select=15, step=1, verbose=0)"
      ]
     },
     "execution_count": 26,
     "metadata": {},
     "output_type": "execute_result"
    }
   ],
   "source": [
    "featurestoselect = 15\n",
    "\n",
    "from sklearn.feature_selection import RFE\n",
    "from sklearn.linear_model import LinearRegression\n",
    "estimator = LinearRegression()\n",
    "clf = RFE(estimator, n_features_to_select = featurestoselect)\n",
    "clf.fit(X,Y)"
   ]
  },
  {
   "cell_type": "code",
   "execution_count": 27,
   "metadata": {},
   "outputs": [
    {
     "name": "stdout",
     "output_type": "stream",
     "text": [
      "Freature Ranking by RFE\n"
     ]
    },
    {
     "data": {
      "text/plain": [
       "['likes - 11',\n",
       " 'Checkins - 9',\n",
       " 'Returns - 10',\n",
       " 'Category - 6',\n",
       " 'commBase - 1',\n",
       " 'comm24 - 1',\n",
       " 'comm48 - 1',\n",
       " 'comm24_1 - 1',\n",
       " 'diff_24,48 - 1',\n",
       " 'baseTime - 1',\n",
       " 'length - 8',\n",
       " 'shares - 7',\n",
       " 'hrs - 1',\n",
       " 'mon_pub - 2',\n",
       " 'tue_pub - 5',\n",
       " 'wed_pub - 1',\n",
       " 'thu_pub - 1',\n",
       " 'fri_pub - 1',\n",
       " 'sat_pub - 4',\n",
       " 'mon_base - 1',\n",
       " 'tue_base - 1',\n",
       " 'wed_base - 1',\n",
       " 'thu_base - 1',\n",
       " 'fri_base - 1',\n",
       " 'sat_base - 3']"
      ]
     },
     "execution_count": 27,
     "metadata": {},
     "output_type": "execute_result"
    }
   ],
   "source": [
    "print(\"Freature Ranking by RFE\")\n",
    "[i+' - ' +str(j) for i,j in zip(data.columns.tolist() , clf.ranking_.tolist())]"
   ]
  },
  {
   "cell_type": "code",
   "execution_count": 28,
   "metadata": {
    "scrolled": true
   },
   "outputs": [
    {
     "name": "stdout",
     "output_type": "stream",
     "text": [
      "Top 15 Selected Features are listed below\n"
     ]
    },
    {
     "data": {
      "text/plain": [
       "['commBase',\n",
       " 'comm24',\n",
       " 'comm48',\n",
       " 'comm24_1',\n",
       " 'diff_24,48',\n",
       " 'baseTime',\n",
       " 'hrs',\n",
       " 'wed_pub',\n",
       " 'thu_pub',\n",
       " 'fri_pub',\n",
       " 'mon_base',\n",
       " 'tue_base',\n",
       " 'wed_base',\n",
       " 'thu_base',\n",
       " 'fri_base']"
      ]
     },
     "execution_count": 28,
     "metadata": {},
     "output_type": "execute_result"
    }
   ],
   "source": [
    "print(\"Top {} Selected Features are listed below\".format(featurestoselect))\n",
    "data.columns[:-1][clf.support_].tolist()"
   ]
  },
  {
   "cell_type": "markdown",
   "metadata": {},
   "source": [
    "### Conclusion From All Feature Selection Methods"
   ]
  },
  {
   "cell_type": "markdown",
   "metadata": {},
   "source": [
    "__Top 15 Ranked Features From RFE are:__\n",
    "- commBase, comm24, comm48, comm24_1, diff_24,48, baseTime, hrs, wed_pub, thu_pub, fri_pub, mon_base, tue_base, wed_base, thu_base, fri_base.\n",
    "\n",
    "__Assuming the Colinearity from VIF and Correlation plot__<br>\n",
    "- We can drop commBase feature that reduce correlation with comm48, comm24_1<br>\n",
    "- We can drop diff_24,48 feature that reduce correlation with comm24, comm48<br>\n",
    "- We can add Returns and share features since it has some correlation with output.\n",
    "\n",
    "__Selected Features__ \n",
    "- comm24, \n",
    "- comm48, \n",
    "- comm24_1, \n",
    "- baseTime, \n",
    "- hrs, \n",
    "- wed_pub, \n",
    "- thu_pub, \n",
    "- fri_pub, \n",
    "- mon_base,\n",
    "- tue_base,\n",
    "- wed_base,\n",
    "- thu_base,\n",
    "- fri_base,\n",
    "- Returns,\n",
    "- shares\n"
   ]
  },
  {
   "cell_type": "code",
   "execution_count": 29,
   "metadata": {},
   "outputs": [],
   "source": [
    "columns = ['comm24','comm48','comm24_1','baseTime','hrs','wed_pub','thu_pub','fri_pub','mon_base','tue_base','wed_base','thu_base','fri_base','Returns','shares','output']"
   ]
  },
  {
   "cell_type": "code",
   "execution_count": 30,
   "metadata": {},
   "outputs": [
    {
     "name": "stdout",
     "output_type": "stream",
     "text": [
      "No.of Selected Features with 1 target variable is 16\n"
     ]
    }
   ],
   "source": [
    "print(\"No.of Selected Features with 1 target variable is\",len(columns))"
   ]
  },
  {
   "cell_type": "code",
   "execution_count": 31,
   "metadata": {},
   "outputs": [],
   "source": [
    "dat = data.copy()"
   ]
  },
  {
   "cell_type": "code",
   "execution_count": 32,
   "metadata": {},
   "outputs": [],
   "source": [
    "dat = dat.loc[:,columns]"
   ]
  },
  {
   "cell_type": "markdown",
   "metadata": {},
   "source": [
    "# Feature Transformation"
   ]
  },
  {
   "cell_type": "markdown",
   "metadata": {},
   "source": [
    "__Log transformation__\n",
    "- log1p(x) = log(1+x)"
   ]
  },
  {
   "cell_type": "code",
   "execution_count": 33,
   "metadata": {},
   "outputs": [],
   "source": [
    "dat = np.log1p(dat)"
   ]
  },
  {
   "cell_type": "code",
   "execution_count": 34,
   "metadata": {},
   "outputs": [
    {
     "data": {
      "image/png": "[encoded data removed]",
      "text/plain": [
       "<Figure size 1152x1440 with 16 Axes>"
      ]
     },
     "metadata": {
      "needs_background": "light"
     },
     "output_type": "display_data"
    }
   ],
   "source": [
    "dat.loc[:,columns].hist(figsize=(16,20), bins=20, xlabelsize=8, ylabelsize=11)\n",
    "plt.savefig(chartdir+'Distribution of Selected Transformed Features.png')\n",
    "plt.show()"
   ]
  },
  {
   "cell_type": "code",
   "execution_count": 35,
   "metadata": {},
   "outputs": [
    {
     "data": {
      "text/plain": [
       "comm24       0.945662\n",
       "comm48       1.135183\n",
       "comm24_1     0.244353\n",
       "baseTime    -1.436977\n",
       "hrs        -11.533727\n",
       "wed_pub      1.863754\n",
       "thu_pub      2.028544\n",
       "fri_pub      1.986159\n",
       "mon_base     2.163486\n",
       "tue_base     2.122164\n",
       "wed_base     1.996142\n",
       "thu_base     1.953410\n",
       "fri_base     2.019165\n",
       "Returns     -0.787532\n",
       "shares       0.598770\n",
       "output       1.682350\n",
       "dtype: float64"
      ]
     },
     "execution_count": 35,
     "metadata": {},
     "output_type": "execute_result"
    }
   ],
   "source": [
    "dat.skew()"
   ]
  },
  {
   "cell_type": "markdown",
   "metadata": {},
   "source": [
    "# Modeling with Evaluation"
   ]
  },
  {
   "cell_type": "markdown",
   "metadata": {},
   "source": [
    "__Spliting X and Y from data__"
   ]
  },
  {
   "cell_type": "code",
   "execution_count": 36,
   "metadata": {},
   "outputs": [],
   "source": [
    "X = np.array(dat.loc[:,dat.columns!='output'])\n",
    "Y = np.array(dat.loc[:,dat.columns=='output'])"
   ]
  },
  {
   "cell_type": "markdown",
   "metadata": {},
   "source": [
    "__Grid Search__"
   ]
  },
  {
   "cell_type": "code",
   "execution_count": 37,
   "metadata": {},
   "outputs": [],
   "source": [
    "from sklearn.model_selection import train_test_split, GridSearchCV\n",
    "from sklearn import metrics"
   ]
  },
  {
   "cell_type": "code",
   "execution_count": 38,
   "metadata": {},
   "outputs": [],
   "source": [
    "def regg(X, Y, reg, param_grid, test_size=0.20):\n",
    "    \n",
    "    X_train, X_test, Y_train, Y_test = train_test_split(X, Y, test_size=test_size, random_state=42)\n",
    "      \n",
    "    \n",
    "    reg = GridSearchCV(reg,parameters, cv = 10,refit = True)\n",
    "    reg.fit(X_train, Y_train)     \n",
    "\n",
    "    return X_train, X_test, Y_train, Y_test, reg"
   ]
  },
  {
   "cell_type": "code",
   "execution_count": 39,
   "metadata": {},
   "outputs": [],
   "source": [
    "def evaluation_metrics(X_train, X_test, Y_train, Y_test, reg):\n",
    "    Y_pred_train = reg.best_estimator_.predict(X_train)\n",
    "    Y_pred_test = reg.best_estimator_.predict(X_test)\n",
    "    \n",
    "    print(\"Best Parameters:\",reg.best_params_)\n",
    "    print('\\n')\n",
    "    print(\"Mean cross-validated score of the best_estimator : \", reg.best_score_) \n",
    "    print('\\n')\n",
    "    MAE_train = metrics.mean_absolute_error(Y_train, Y_pred_train)\n",
    "    MAE_test = metrics.mean_absolute_error(Y_test, Y_pred_test)\n",
    "    print('MAE for training set is {}'.format(MAE_train))\n",
    "    print('MAE for test set is {}'.format(MAE_test))\n",
    "    print('\\n')\n",
    "    MSE_train = metrics.mean_squared_error(Y_train, Y_pred_train)\n",
    "    MSE_test = metrics.mean_squared_error(Y_test, Y_pred_test)\n",
    "    print('MSE for training set is {}'.format(MSE_train))\n",
    "    print('MSE for test set is {}'.format(MSE_test))\n",
    "    print('\\n')\n",
    "    RMSE_train = np.sqrt(metrics.mean_squared_error(Y_train, Y_pred_train))\n",
    "    RMSE_test = np.sqrt(metrics.mean_squared_error(Y_test, Y_pred_test))\n",
    "    print('RMSE for training set is {}'.format(RMSE_train))\n",
    "    print('RMSE for test set is {}'.format(RMSE_test))\n",
    "    print('\\n')\n",
    "    r2_train = metrics.r2_score(Y_train, Y_pred_train)\n",
    "    r2_test = metrics.r2_score(Y_test, Y_pred_test)\n",
    "    print(\"R2 value for train: \", r2_train)\n",
    "    print(\"R2 value for test: \", r2_test)"
   ]
  },
  {
   "cell_type": "markdown",
   "metadata": {},
   "source": [
    "### Linear Regression"
   ]
  },
  {
   "cell_type": "code",
   "execution_count": 40,
   "metadata": {},
   "outputs": [],
   "source": [
    "from sklearn.linear_model import LinearRegression"
   ]
  },
  {
   "cell_type": "code",
   "execution_count": 41,
   "metadata": {},
   "outputs": [
    {
     "name": "stdout",
     "output_type": "stream",
     "text": [
      "Best Parameters: {'copy_X': True, 'fit_intercept': True, 'normalize': True}\n",
      "\n",
      "\n",
      "Mean cross-validated score of the best_estimator :  0.6969157649052633\n",
      "\n",
      "\n",
      "MAE for training set is 0.48838271091897123\n",
      "MAE for test set is 0.492272750232122\n",
      "\n",
      "\n",
      "MSE for training set is 0.43536474861763635\n",
      "MSE for test set is 0.4491021013087104\n",
      "\n",
      "\n",
      "RMSE for training set is 0.659821755186684\n",
      "RMSE for test set is 0.6701508049004421\n",
      "\n",
      "\n",
      "R2 value for train:  0.6974224100506949\n",
      "R2 value for test:  0.6875718301571333\n"
     ]
    }
   ],
   "source": [
    "reg = LinearRegression()\n",
    "parameters = {'fit_intercept':[True,False],'normalize':[True,False], 'copy_X':[True, False]}\n",
    "X_train, X_test, Y_train, Y_test, linreg = regg(X, Y, reg, param_grid=parameters, test_size=0.20)\n",
    "evaluation_metrics(X_train, X_test, Y_train, Y_test, reg = linreg)\n",
    "with open(modeldir+'linreg.pkl', 'wb') as model_file:\n",
    "    pickle.dump(linreg, model_file)"
   ]
  },
  {
   "cell_type": "markdown",
   "metadata": {},
   "source": [
    "### DecisionTree Regressor"
   ]
  },
  {
   "cell_type": "code",
   "execution_count": 42,
   "metadata": {},
   "outputs": [],
   "source": [
    "from sklearn.tree import DecisionTreeRegressor"
   ]
  },
  {
   "cell_type": "code",
   "execution_count": 43,
   "metadata": {},
   "outputs": [
    {
     "name": "stdout",
     "output_type": "stream",
     "text": [
      "Best Parameters: {'max_depth': 7}\n",
      "\n",
      "\n",
      "Mean cross-validated score of the best_estimator :  0.7912992387538295\n",
      "\n",
      "\n",
      "MAE for training set is 0.3578360435102896\n",
      "MAE for test set is 0.37667338704927106\n",
      "\n",
      "\n",
      "MSE for training set is 0.2689452334892986\n",
      "MSE for test set is 0.30546462719125583\n",
      "\n",
      "\n",
      "RMSE for training set is 0.5185992995457076\n",
      "RMSE for test set is 0.5526885444726133\n",
      "\n",
      "\n",
      "R2 value for train:  0.8130836250846412\n",
      "R2 value for test:  0.7874965310850425\n"
     ]
    }
   ],
   "source": [
    "reg = DecisionTreeRegressor()\n",
    "parameters = {'max_depth':[5,6,7,8,9,10]}\n",
    "X_train, X_test, Y_train, Y_test, DTreg = regg(X, Y, reg, param_grid=parameters, test_size=0.20)\n",
    "evaluation_metrics(X_train, X_test, Y_train, Y_test, reg = DTreg)\n",
    "with open(modeldir+'DTreg.pkl', 'wb') as model_file:\n",
    "    pickle.dump(DTreg, model_file)"
   ]
  },
  {
   "cell_type": "markdown",
   "metadata": {},
   "source": [
    "### RandomForest Regressor"
   ]
  },
  {
   "cell_type": "code",
   "execution_count": 44,
   "metadata": {},
   "outputs": [],
   "source": [
    "from sklearn.ensemble import RandomForestRegressor"
   ]
  },
  {
   "cell_type": "code",
   "execution_count": 45,
   "metadata": {
    "scrolled": true
   },
   "outputs": [
    {
     "name": "stdout",
     "output_type": "stream",
     "text": [
      "Best Parameters: {'max_depth': 9, 'n_estimators': 20}\n",
      "\n",
      "\n",
      "Mean cross-validated score of the best_estimator :  0.8104511900890559\n",
      "\n",
      "\n",
      "MAE for training set is 0.3266580010349754\n",
      "MAE for test set is 0.3598646798890008\n",
      "\n",
      "\n",
      "MSE for training set is 0.21784227010965723\n",
      "MSE for test set is 0.27568260669260375\n",
      "\n",
      "\n",
      "RMSE for training set is 0.4667357604787287\n",
      "RMSE for test set is 0.5250548606503931\n",
      "\n",
      "\n",
      "R2 value for train:  0.8486000777781036\n",
      "R2 value for test:  0.8082150762254505\n"
     ]
    }
   ],
   "source": [
    "reg = RandomForestRegressor(n_jobs=-1)\n",
    "parameters = {'n_estimators':[20,25],'max_depth':[7,8,9,10]}\n",
    "X_train, X_test, Y_train, Y_test, RFreg = regg(X, Y, reg, param_grid=parameters, test_size=0.20)\n",
    "evaluation_metrics(X_train, X_test, Y_train, Y_test, reg = RFreg)\n",
    "with open(modeldir+'RFreg.pkl', 'wb') as model_file:\n",
    "    pickle.dump(RFreg, model_file)"
   ]
  },
  {
   "cell_type": "markdown",
   "metadata": {},
   "source": [
    "### Gradient Boosting Regressor"
   ]
  },
  {
   "cell_type": "code",
   "execution_count": 46,
   "metadata": {},
   "outputs": [],
   "source": [
    "from sklearn.ensemble import GradientBoostingRegressor"
   ]
  },
  {
   "cell_type": "code",
   "execution_count": 47,
   "metadata": {
    "scrolled": true
   },
   "outputs": [
    {
     "name": "stdout",
     "output_type": "stream",
     "text": [
      "Best Parameters: {'alpha': 0.001, 'max_depth': 5, 'n_estimators': 200}\n",
      "\n",
      "\n",
      "Mean cross-validated score of the best_estimator :  0.8266499927716852\n",
      "\n",
      "\n",
      "MAE for training set is 0.30919842243512696\n",
      "MAE for test set is 0.34573241836223634\n",
      "\n",
      "\n",
      "MSE for training set is 0.1992926635801835\n",
      "MSE for test set is 0.25404132719937084\n",
      "\n",
      "\n",
      "RMSE for training set is 0.4464220688767341\n",
      "RMSE for test set is 0.5040251255635684\n",
      "\n",
      "\n",
      "R2 value for train:  0.8614920155291903\n",
      "R2 value for test:  0.8232703283060481\n"
     ]
    }
   ],
   "source": [
    "reg = GradientBoostingRegressor()\n",
    "parameters = {'alpha':[0.01,0.001],'n_estimators':[150,200],'max_depth':[3,5,7]}\n",
    "X_train, X_test, Y_train, Y_test, XGreg = regg(X, Y, reg, param_grid=parameters, test_size=0.20)\n",
    "evaluation_metrics(X_train, X_test, Y_train, Y_test, reg = XGreg)\n",
    "with open(modeldir+'XGreg.pkl', 'wb') as model_file:\n",
    "    pickle.dump(XGreg, model_file)"
   ]
  },
  {
   "cell_type": "markdown",
   "metadata": {},
   "source": [
    "### Support Vector Regressor"
   ]
  },
  {
   "cell_type": "code",
   "execution_count": 48,
   "metadata": {},
   "outputs": [],
   "source": [
    "from sklearn.svm import SVR"
   ]
  },
  {
   "cell_type": "code",
   "execution_count": 49,
   "metadata": {},
   "outputs": [
    {
     "name": "stdout",
     "output_type": "stream",
     "text": [
      "Best Parameters: {'max_iter': 5000}\n",
      "\n",
      "\n",
      "Mean cross-validated score of the best_estimator :  0.7610822954100843\n",
      "\n",
      "\n",
      "MAE for training set is 0.38808221479537475\n",
      "MAE for test set is 0.4006068864212854\n",
      "\n",
      "\n",
      "MSE for training set is 0.31001709194650057\n",
      "MSE for test set is 0.32361853236079663\n",
      "\n",
      "\n",
      "RMSE for training set is 0.556791785092507\n",
      "RMSE for test set is 0.5688747949775914\n",
      "\n",
      "\n",
      "R2 value for train:  0.7845387693374118\n",
      "R2 value for test:  0.7748673508806021\n"
     ]
    }
   ],
   "source": [
    "reg = SVR()\n",
    "parameters = {'max_iter':[1000,5000]}\n",
    "X_train, X_test, Y_train, Y_test, SVRreg = regg(X, Y, reg, param_grid=parameters, test_size=0.20)\n",
    "evaluation_metrics(X_train, X_test, Y_train, Y_test, reg = SVRreg)\n",
    "with open(modeldir+'SVRreg.pkl', 'wb') as model_file:\n",
    "    pickle.dump(SVRreg, model_file)"
   ]
  },
  {
   "cell_type": "markdown",
   "metadata": {},
   "source": [
    "### Multi Layer Perceptron Regressor"
   ]
  },
  {
   "cell_type": "code",
   "execution_count": 50,
   "metadata": {},
   "outputs": [],
   "source": [
    "from sklearn.neural_network import MLPRegressor"
   ]
  },
  {
   "cell_type": "code",
   "execution_count": 51,
   "metadata": {},
   "outputs": [
    {
     "name": "stdout",
     "output_type": "stream",
     "text": [
      "Best Parameters: {'hidden_layer_sizes': 50, 'learning_rate_init': 0.001, 'max_iter': 500, 'solver': 'adam'}\n",
      "\n",
      "\n",
      "Mean cross-validated score of the best_estimator :  0.8095117940611244\n",
      "\n",
      "\n",
      "MAE for training set is 0.34954828615768446\n",
      "MAE for test set is 0.35980093250791645\n",
      "\n",
      "\n",
      "MSE for training set is 0.266988535314046\n",
      "MSE for test set is 0.27937910656488685\n",
      "\n",
      "\n",
      "RMSE for training set is 0.5167093334884187\n",
      "RMSE for test set is 0.5285632474594567\n",
      "\n",
      "\n",
      "R2 value for train:  0.8144435262250206\n",
      "R2 value for test:  0.8056435213684228\n"
     ]
    }
   ],
   "source": [
    "reg = MLPRegressor(activation='tanh',early_stopping=True)\n",
    "parameters = {'solver':['sgd', 'adam'],'learning_rate_init':[0.01,0.001,0.0001],'hidden_layer_sizes':[10,25,50],'max_iter':[500,1000]}\n",
    "X_train, X_test, Y_train, Y_test, MLPreg = regg(X, Y, reg, param_grid=parameters, test_size=0.20)\n",
    "evaluation_metrics(X_train, X_test, Y_train, Y_test, reg = MLPreg)\n",
    "with open(modeldir+'MLPreg.pkl', 'wb') as model_file:\n",
    "    pickle.dump(MLPreg, model_file)"
   ]
  },
  {
   "cell_type": "markdown",
   "metadata": {},
   "source": [
    "### Conclusion from different models"
   ]
  },
  {
   "cell_type": "markdown",
   "metadata": {},
   "source": [
    "Observation from Evaluation metrics of different models, we can conclude that Multi Layer Perceptron Regressor gives the best score and minimized Mean Squared Error.<br>\n",
    "\n",
    "Though the Gradient Boosting score is better than Multi Layer Perceptron, the variance is good for Multi Layer Perceptron Regressor, because the score between Train and Test has more deviation in Gradient Boosting and Random Forest Regressor than Multi Layer Perceptron Regressor.<br>"
   ]
  },
  {
   "cell_type": "markdown",
   "metadata": {},
   "source": [
    "# Final Evaluation"
   ]
  },
  {
   "cell_type": "code",
   "execution_count": 52,
   "metadata": {
    "scrolled": true
   },
   "outputs": [
    {
     "data": {
      "text/plain": [
       "MLPRegressor(activation='tanh', alpha=0.0001, batch_size='auto', beta_1=0.9,\n",
       "             beta_2=0.999, early_stopping=True, epsilon=1e-08,\n",
       "             hidden_layer_sizes=50, learning_rate='constant',\n",
       "             learning_rate_init=0.001, max_iter=500, momentum=0.9,\n",
       "             n_iter_no_change=10, nesterovs_momentum=True, power_t=0.5,\n",
       "             random_state=None, shuffle=True, solver='adam', tol=0.0001,\n",
       "             validation_fraction=0.1, verbose=False, warm_start=False)"
      ]
     },
     "execution_count": 52,
     "metadata": {},
     "output_type": "execute_result"
    }
   ],
   "source": [
    "MLPreg.best_estimator_"
   ]
  },
  {
   "cell_type": "markdown",
   "metadata": {},
   "source": [
    "### Feature Contribution"
   ]
  },
  {
   "cell_type": "markdown",
   "metadata": {},
   "source": [
    "Reference: Milne L. FEATURE SELECTION USING NEURAL NETWORKS WITH CONTRIBUTION MEASURES. Page 2-3."
   ]
  },
  {
   "cell_type": "code",
   "execution_count": 53,
   "metadata": {
    "scrolled": true
   },
   "outputs": [],
   "source": [
    "layer1coef = MLPreg.best_estimator_.coefs_[0].T\n",
    "layer2coef = MLPreg.best_estimator_.coefs_[1].reshape(50,)"
   ]
  },
  {
   "cell_type": "code",
   "execution_count": 54,
   "metadata": {},
   "outputs": [],
   "source": [
    "fea = []\n",
    "for i in range(15):\n",
    "    fea.append(np.absolute(layer1coef.T[i] * layer2coef).sum() / np.absolute(layer1coef[i]).sum())"
   ]
  },
  {
   "cell_type": "code",
   "execution_count": 55,
   "metadata": {},
   "outputs": [],
   "source": [
    "contrib = []\n",
    "for i,j in enumerate(columns[:-1]):\n",
    "    val = (fea[i]/sum(fea))*100\n",
    "    f = j + '   -   ' + str(val)\n",
    "    contrib.append(val)\n",
    "\n",
    "contribution = pd.DataFrame({'Features':columns[:-1],'Contribution':contrib}).sort_values(by='Contribution', ascending=False)"
   ]
  },
  {
   "cell_type": "code",
   "execution_count": 56,
   "metadata": {},
   "outputs": [
    {
     "data": {
      "text/html": [
       "<div>\n",
       "<style scoped>\n",
       "    .dataframe tbody tr th:only-of-type {\n",
       "        vertical-align: middle;\n",
       "    }\n",
       "\n",
       "    .dataframe tbody tr th {\n",
       "        vertical-align: top;\n",
       "    }\n",
       "\n",
       "    .dataframe thead th {\n",
       "        text-align: right;\n",
       "    }\n",
       "</style>\n",
       "<table border=\"1\" class=\"dataframe\">\n",
       "  <thead>\n",
       "    <tr style=\"text-align: right;\">\n",
       "      <th></th>\n",
       "      <th>Features</th>\n",
       "      <th>Contribution</th>\n",
       "    </tr>\n",
       "  </thead>\n",
       "  <tbody>\n",
       "    <tr>\n",
       "      <td>3</td>\n",
       "      <td>baseTime</td>\n",
       "      <td>16.931178</td>\n",
       "    </tr>\n",
       "    <tr>\n",
       "      <td>0</td>\n",
       "      <td>comm24</td>\n",
       "      <td>9.833919</td>\n",
       "    </tr>\n",
       "    <tr>\n",
       "      <td>1</td>\n",
       "      <td>comm48</td>\n",
       "      <td>9.018353</td>\n",
       "    </tr>\n",
       "    <tr>\n",
       "      <td>9</td>\n",
       "      <td>tue_base</td>\n",
       "      <td>8.228132</td>\n",
       "    </tr>\n",
       "    <tr>\n",
       "      <td>5</td>\n",
       "      <td>wed_pub</td>\n",
       "      <td>6.606369</td>\n",
       "    </tr>\n",
       "    <tr>\n",
       "      <td>8</td>\n",
       "      <td>mon_base</td>\n",
       "      <td>6.391874</td>\n",
       "    </tr>\n",
       "    <tr>\n",
       "      <td>6</td>\n",
       "      <td>thu_pub</td>\n",
       "      <td>6.161606</td>\n",
       "    </tr>\n",
       "    <tr>\n",
       "      <td>7</td>\n",
       "      <td>fri_pub</td>\n",
       "      <td>5.679927</td>\n",
       "    </tr>\n",
       "    <tr>\n",
       "      <td>10</td>\n",
       "      <td>wed_base</td>\n",
       "      <td>5.390388</td>\n",
       "    </tr>\n",
       "    <tr>\n",
       "      <td>11</td>\n",
       "      <td>thu_base</td>\n",
       "      <td>5.347163</td>\n",
       "    </tr>\n",
       "    <tr>\n",
       "      <td>4</td>\n",
       "      <td>hrs</td>\n",
       "      <td>5.030052</td>\n",
       "    </tr>\n",
       "    <tr>\n",
       "      <td>14</td>\n",
       "      <td>shares</td>\n",
       "      <td>4.337276</td>\n",
       "    </tr>\n",
       "    <tr>\n",
       "      <td>12</td>\n",
       "      <td>fri_base</td>\n",
       "      <td>4.082669</td>\n",
       "    </tr>\n",
       "    <tr>\n",
       "      <td>13</td>\n",
       "      <td>Returns</td>\n",
       "      <td>3.690246</td>\n",
       "    </tr>\n",
       "    <tr>\n",
       "      <td>2</td>\n",
       "      <td>comm24_1</td>\n",
       "      <td>3.270846</td>\n",
       "    </tr>\n",
       "  </tbody>\n",
       "</table>\n",
       "</div>"
      ],
      "text/plain": [
       "    Features  Contribution\n",
       "3   baseTime     16.931178\n",
       "0     comm24      9.833919\n",
       "1     comm48      9.018353\n",
       "9   tue_base      8.228132\n",
       "5    wed_pub      6.606369\n",
       "8   mon_base      6.391874\n",
       "6    thu_pub      6.161606\n",
       "7    fri_pub      5.679927\n",
       "10  wed_base      5.390388\n",
       "11  thu_base      5.347163\n",
       "4        hrs      5.030052\n",
       "14    shares      4.337276\n",
       "12  fri_base      4.082669\n",
       "13   Returns      3.690246\n",
       "2   comm24_1      3.270846"
      ]
     },
     "execution_count": 56,
     "metadata": {},
     "output_type": "execute_result"
    }
   ],
   "source": [
    "contribution"
   ]
  },
  {
   "cell_type": "code",
   "execution_count": 57,
   "metadata": {},
   "outputs": [
    {
     "data": {
      "image/png": "[encoded data removed]",
      "text/plain": [
       "<Figure size 1080x648 with 1 Axes>"
      ]
     },
     "metadata": {
      "needs_background": "light"
     },
     "output_type": "display_data"
    }
   ],
   "source": [
    "plt.subplots(figsize=(15,9))\n",
    "act = sns.barplot(x=\"Features\", y=\"Contribution\", data=contribution, order=contribution.Features.tolist())\n",
    "act.set(xlabel='Features', ylabel='Contribution in %')\n",
    "for p in act.patches:\n",
    "    act.annotate(round(p.get_height(),2), (p.get_x() + p.get_width() / 2, round(float(p.get_height()),2)), ha = 'center', va = 'center', xytext = (0, 10), textcoords = 'offset points')\n",
    "plt.savefig(chartdir+'Contribution of Features.png')\n",
    "plt.show()"
   ]
  },
  {
   "cell_type": "markdown",
   "metadata": {},
   "source": [
    "### Comparing Actual vs Predicted"
   ]
  },
  {
   "cell_type": "code",
   "execution_count": 58,
   "metadata": {},
   "outputs": [],
   "source": [
    "X_train, X_test, Y_train, Y_test = train_test_split(X, Y, test_size=0.20, random_state=10)"
   ]
  },
  {
   "cell_type": "code",
   "execution_count": 59,
   "metadata": {},
   "outputs": [],
   "source": [
    "Y_Pred_test = MLPreg.best_estimator_.predict(X_test)"
   ]
  },
  {
   "cell_type": "code",
   "execution_count": 60,
   "metadata": {
    "scrolled": false
   },
   "outputs": [
    {
     "data": {
      "text/html": [
       "<div>\n",
       "<style scoped>\n",
       "    .dataframe tbody tr th:only-of-type {\n",
       "        vertical-align: middle;\n",
       "    }\n",
       "\n",
       "    .dataframe tbody tr th {\n",
       "        vertical-align: top;\n",
       "    }\n",
       "\n",
       "    .dataframe thead th {\n",
       "        text-align: right;\n",
       "    }\n",
       "</style>\n",
       "<table border=\"1\" class=\"dataframe\">\n",
       "  <thead>\n",
       "    <tr style=\"text-align: right;\">\n",
       "      <th></th>\n",
       "      <th>Actual</th>\n",
       "      <th>Predicted</th>\n",
       "    </tr>\n",
       "  </thead>\n",
       "  <tbody>\n",
       "    <tr>\n",
       "      <td>0</td>\n",
       "      <td>17.0</td>\n",
       "      <td>14.371835</td>\n",
       "    </tr>\n",
       "    <tr>\n",
       "      <td>1</td>\n",
       "      <td>11.0</td>\n",
       "      <td>5.792998</td>\n",
       "    </tr>\n",
       "    <tr>\n",
       "      <td>2</td>\n",
       "      <td>4.0</td>\n",
       "      <td>7.862453</td>\n",
       "    </tr>\n",
       "    <tr>\n",
       "      <td>3</td>\n",
       "      <td>0.0</td>\n",
       "      <td>1.147101</td>\n",
       "    </tr>\n",
       "    <tr>\n",
       "      <td>4</td>\n",
       "      <td>0.0</td>\n",
       "      <td>0.178964</td>\n",
       "    </tr>\n",
       "    <tr>\n",
       "      <td>5</td>\n",
       "      <td>1.0</td>\n",
       "      <td>0.890524</td>\n",
       "    </tr>\n",
       "    <tr>\n",
       "      <td>6</td>\n",
       "      <td>1.0</td>\n",
       "      <td>1.084473</td>\n",
       "    </tr>\n",
       "    <tr>\n",
       "      <td>7</td>\n",
       "      <td>0.0</td>\n",
       "      <td>-0.049155</td>\n",
       "    </tr>\n",
       "    <tr>\n",
       "      <td>8</td>\n",
       "      <td>0.0</td>\n",
       "      <td>0.144306</td>\n",
       "    </tr>\n",
       "    <tr>\n",
       "      <td>9</td>\n",
       "      <td>0.0</td>\n",
       "      <td>0.056271</td>\n",
       "    </tr>\n",
       "    <tr>\n",
       "      <td>10</td>\n",
       "      <td>0.0</td>\n",
       "      <td>0.110733</td>\n",
       "    </tr>\n",
       "    <tr>\n",
       "      <td>11</td>\n",
       "      <td>0.0</td>\n",
       "      <td>-0.043385</td>\n",
       "    </tr>\n",
       "    <tr>\n",
       "      <td>12</td>\n",
       "      <td>1.0</td>\n",
       "      <td>0.663258</td>\n",
       "    </tr>\n",
       "    <tr>\n",
       "      <td>13</td>\n",
       "      <td>0.0</td>\n",
       "      <td>0.023832</td>\n",
       "    </tr>\n",
       "    <tr>\n",
       "      <td>14</td>\n",
       "      <td>5.0</td>\n",
       "      <td>0.952178</td>\n",
       "    </tr>\n",
       "    <tr>\n",
       "      <td>15</td>\n",
       "      <td>3.0</td>\n",
       "      <td>2.327260</td>\n",
       "    </tr>\n",
       "    <tr>\n",
       "      <td>16</td>\n",
       "      <td>29.0</td>\n",
       "      <td>32.453311</td>\n",
       "    </tr>\n",
       "    <tr>\n",
       "      <td>17</td>\n",
       "      <td>0.0</td>\n",
       "      <td>0.237083</td>\n",
       "    </tr>\n",
       "    <tr>\n",
       "      <td>18</td>\n",
       "      <td>0.0</td>\n",
       "      <td>0.367435</td>\n",
       "    </tr>\n",
       "    <tr>\n",
       "      <td>19</td>\n",
       "      <td>0.0</td>\n",
       "      <td>0.173141</td>\n",
       "    </tr>\n",
       "  </tbody>\n",
       "</table>\n",
       "</div>"
      ],
      "text/plain": [
       "    Actual  Predicted\n",
       "0     17.0  14.371835\n",
       "1     11.0   5.792998\n",
       "2      4.0   7.862453\n",
       "3      0.0   1.147101\n",
       "4      0.0   0.178964\n",
       "5      1.0   0.890524\n",
       "6      1.0   1.084473\n",
       "7      0.0  -0.049155\n",
       "8      0.0   0.144306\n",
       "9      0.0   0.056271\n",
       "10     0.0   0.110733\n",
       "11     0.0  -0.043385\n",
       "12     1.0   0.663258\n",
       "13     0.0   0.023832\n",
       "14     5.0   0.952178\n",
       "15     3.0   2.327260\n",
       "16    29.0  32.453311\n",
       "17     0.0   0.237083\n",
       "18     0.0   0.367435\n",
       "19     0.0   0.173141"
      ]
     },
     "execution_count": 60,
     "metadata": {},
     "output_type": "execute_result"
    }
   ],
   "source": [
    "actvspred=pd.DataFrame(data={'Actual':(np.exp(Y_test)-1).reshape(-1,),'Predicted':(np.exp(Y_Pred_test)-1).reshape(-1,)})\n",
    "actvspred.head(20)\n"
   ]
  },
  {
   "cell_type": "code",
   "execution_count": 61,
   "metadata": {},
   "outputs": [
    {
     "data": {
      "image/png": "[encoded data removed]",
      "text/plain": [
       "<Figure size 864x504 with 1 Axes>"
      ]
     },
     "metadata": {
      "needs_background": "light"
     },
     "output_type": "display_data"
    }
   ],
   "source": [
    "fig, ax = plt.subplots(figsize=(12,7))\n",
    "ax.scatter(Y_test, Y_Pred_test, edgecolors=(0, 0, 0))\n",
    "ax.plot([Y_test.min(), Y_test.max()], [Y_test.min(), Y_test.max()], 'k-', lw=4)\n",
    "ax.set_xlabel('Actual')\n",
    "ax.set_ylabel('Predicted')\n",
    "ax.set_title(\"Ground Truth vs Predicted\")\n",
    "plt.savefig(chartdir+'Actual vs Predicted.png')\n",
    "plt.show()"
   ]
  },
  {
   "cell_type": "code",
   "execution_count": null,
   "metadata": {},
   "outputs": [],
   "source": []
  }
 ],
 "metadata": {
  "kernelspec": {
   "display_name": "Python 3",
   "language": "python",
   "name": "python3"
  },
  "language_info": {
   "codemirror_mode": {
    "name": "ipython",
    "version": 3
   },
   "file_extension": ".py",
   "mimetype": "text/x-python",
   "name": "python",
   "nbconvert_exporter": "python",
   "pygments_lexer": "ipython3",
   "version": "3.7.4"
  }
 },
 "nbformat": 4,
 "nbformat_minor": 2
}
